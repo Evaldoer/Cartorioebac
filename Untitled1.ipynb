{
  "nbformat": 4,
  "nbformat_minor": 0,
  "metadata": {
    "colab": {
      "provenance": [],
      "authorship_tag": "ABX9TyN/STuVTEwTE2jxmp6jYbgE",
      "include_colab_link": true
    },
    "kernelspec": {
      "name": "python3",
      "display_name": "Python 3"
    },
    "language_info": {
      "name": "python"
    }
  },
  "cells": [
    {
      "cell_type": "markdown",
      "metadata": {
        "id": "view-in-github",
        "colab_type": "text"
      },
      "source": [
        "<a href=\"https://colab.research.google.com/github/Evaldoer/Cartorioebac/blob/main/Untitled1.ipynb\" target=\"_parent\"><img src=\"https://colab.research.google.com/assets/colab-badge.svg\" alt=\"Open In Colab\"/></a>"
      ]
    },
    {
      "cell_type": "code",
      "source": [
        "if False:\n",
        "  print(\"Verdadeiro\")\n",
        "else:\n",
        "  print(\"Falso\")"
      ],
      "metadata": {
        "colab": {
          "base_uri": "https://localhost:8080/"
        },
        "id": "Z6XeXZoiIUd4",
        "outputId": "114cfda8-97d5-4925-ef77-485f9b141ad4"
      },
      "execution_count": 6,
      "outputs": [
        {
          "output_type": "stream",
          "name": "stdout",
          "text": [
            "Falso\n"
          ]
        }
      ]
    },
    {
      "cell_type": "code",
      "source": [
        "codigo_de_seguranca = '291'\n",
        "codigo_de_seguranca_cadastro = '010'\n",
        "\n",
        "pode_efetuar_pagamento = codigo_de_seguranca == codigo_de_seguranca_cadastro\n",
        "print(pode_efetuar_pagamento)"
      ],
      "metadata": {
        "colab": {
          "base_uri": "https://localhost:8080/"
        },
        "id": "k6gvnfuRKjeX",
        "outputId": "f6f74a15-8ed1-431a-d3ec-808bed4e8ddd"
      },
      "execution_count": 11,
      "outputs": [
        {
          "output_type": "stream",
          "name": "stdout",
          "text": [
            "False\n"
          ]
        }
      ]
    },
    {
      "cell_type": "code",
      "source": [
        "if pode_efetuar_pagamento:\n",
        "  print(\"Pagamento efetuado\")\n",
        "else:\n",
        "  print(\"Erro: Código de segurança inválido\")"
      ],
      "metadata": {
        "colab": {
          "base_uri": "https://localhost:8080/"
        },
        "id": "3Llhe-FnKlOP",
        "outputId": "570588ca-6c7e-4b48-f0e9-a5898a434193"
      },
      "execution_count": 12,
      "outputs": [
        {
          "output_type": "stream",
          "name": "stdout",
          "text": [
            "Erro: Código de segurança inválido\n"
          ]
        }
      ]
    },
    {
      "cell_type": "code",
      "source": [
        "if codigo_de_seguranca == codigo_de_seguranca_cadastro:\n",
        "  print(\"Pagamento efetuado\")\n",
        "else:\n",
        "  print(\"Erro: Código de segurança inválido\")"
      ],
      "metadata": {
        "colab": {
          "base_uri": "https://localhost:8080/"
        },
        "id": "CVytLmtpKrAP",
        "outputId": "aa4b72de-d549-4f49-bedf-91a2d89dd4a5"
      },
      "execution_count": 13,
      "outputs": [
        {
          "output_type": "stream",
          "name": "stdout",
          "text": [
            "Erro: Código de segurança inválido\n"
          ]
        }
      ]
    },
    {
      "cell_type": "code",
      "source": [
        "codigo_de_seguranca = '852'\n",
        "codigo_de_seguranca_cadastro = '852'\n",
        "\n",
        "senha = '7783'\n",
        "senha_cadastro = '7783'"
      ],
      "metadata": {
        "id": "Xgp5AiI6MVAK"
      },
      "execution_count": 1,
      "outputs": []
    },
    {
      "cell_type": "code",
      "source": [
        "if (codigo_de_seguranca == codigo_de_seguranca_cadastro) & (senha == senha_cadastro):\n",
        "  print(\"Pagamento efetuado\")\n",
        "else:\n",
        "  print(\"Erro: Pagamento não efetuado\")"
      ],
      "metadata": {
        "colab": {
          "base_uri": "https://localhost:8080/"
        },
        "id": "sp6NE1wpWjaZ",
        "outputId": "b6e4004e-52d6-402d-f1a7-c0a7463bd950"
      },
      "execution_count": 2,
      "outputs": [
        {
          "output_type": "stream",
          "name": "stdout",
          "text": [
            "Pagamento efetuado\n"
          ]
        }
      ]
    },
    {
      "cell_type": "code",
      "source": [
        "if (codigo_de_seguranca != codigo_de_seguranca_cadastro) | (senha != senha_cadastro):\n",
        "  print(\"Erro: Pagamento não efetuado\")\n",
        "else:\n",
        "  print(\"Pagamento efetuado\")"
      ],
      "metadata": {
        "colab": {
          "base_uri": "https://localhost:8080/"
        },
        "id": "fglbPzDjWoWS",
        "outputId": "d63fadd3-1fa6-47e0-ca10-7fd30c74013a"
      },
      "execution_count": 6,
      "outputs": [
        {
          "output_type": "stream",
          "name": "stdout",
          "text": [
            "Pagamento efetuado\n"
          ]
        }
      ]
    },
    {
      "cell_type": "code",
      "source": [
        "codigo_de_seguranca = '802'\n",
        "codigo_de_seguranca_cadastro = '852'\n",
        "\n",
        "senha = '7703'\n",
        "senha_cadastro = '7783'"
      ],
      "metadata": {
        "id": "H3AYrIGeX2kB"
      },
      "execution_count": 8,
      "outputs": []
    },
    {
      "cell_type": "code",
      "source": [
        "if (codigo_de_seguranca == codigo_de_seguranca_cadastro) & (senha == senha_cadastro):\n",
        "  print(\"Pagamento efetuado\")\n",
        "\n",
        "elif (codigo_de_seguranca != codigo_de_seguranca_cadastro) & (senha == senha_cadastro):\n",
        "  print(\"Erro: Código de segurança inválido\")\n",
        "\n",
        "elif (codigo_de_seguranca == codigo_de_seguranca_cadastro) & (senha != senha_cadastro):\n",
        "  print(\"Erro: Senha inválida inválida\")\n",
        "\n",
        "else:\n",
        "  print(\"Erro: Código de segurança e senha inválidos\")"
      ],
      "metadata": {
        "colab": {
          "base_uri": "https://localhost:8080/"
        },
        "id": "ITLf-nRQa049",
        "outputId": "6dfef781-176f-4220-b89b-821d8489f7c4"
      },
      "execution_count": 9,
      "outputs": [
        {
          "output_type": "stream",
          "name": "stdout",
          "text": [
            "Erro: Código de segurança e senha inválidos\n"
          ]
        }
      ]
    },
    {
      "cell_type": "code",
      "source": [
        "preco = 132.85\n",
        "pessoas = 0"
      ],
      "metadata": {
        "id": "-90x0JrNtUC9"
      },
      "execution_count": 1,
      "outputs": []
    },
    {
      "cell_type": "code",
      "source": [
        "valor_por_pessoa = preco / pessoas"
      ],
      "metadata": {
        "colab": {
          "base_uri": "https://localhost:8080/",
          "height": 141
        },
        "id": "3f5Jo0ydtWcG",
        "outputId": "7141a252-d2b6-4a99-a0d3-a79e0c590544"
      },
      "execution_count": 2,
      "outputs": [
        {
          "output_type": "error",
          "ename": "ZeroDivisionError",
          "evalue": "float division by zero",
          "traceback": [
            "\u001b[0;31m---------------------------------------------------------------------------\u001b[0m",
            "\u001b[0;31mZeroDivisionError\u001b[0m                         Traceback (most recent call last)",
            "\u001b[0;32m/tmp/ipython-input-1587840832.py\u001b[0m in \u001b[0;36m<cell line: 0>\u001b[0;34m()\u001b[0m\n\u001b[0;32m----> 1\u001b[0;31m \u001b[0mvalor_por_pessoa\u001b[0m \u001b[0;34m=\u001b[0m \u001b[0mpreco\u001b[0m \u001b[0;34m/\u001b[0m \u001b[0mpessoas\u001b[0m\u001b[0;34m\u001b[0m\u001b[0;34m\u001b[0m\u001b[0m\n\u001b[0m",
            "\u001b[0;31mZeroDivisionError\u001b[0m: float division by zero"
          ]
        }
      ]
    },
    {
      "cell_type": "code",
      "source": [
        "nome = 'Andre Perez'\n",
        "idade = True"
      ],
      "metadata": {
        "id": "fTvQn3DEt80Z"
      },
      "execution_count": 3,
      "outputs": []
    },
    {
      "cell_type": "code",
      "source": [
        "apresentacao = 'Fala pessoal, meu nome é ' + nome + ' e eu tenho ' + idade + ' anos'"
      ],
      "metadata": {
        "colab": {
          "base_uri": "https://localhost:8080/",
          "height": 141
        },
        "id": "4vaXtTbDt_NJ",
        "outputId": "5cd8b2ae-375a-45f9-de8f-1b7b6c550f73"
      },
      "execution_count": 4,
      "outputs": [
        {
          "output_type": "error",
          "ename": "TypeError",
          "evalue": "can only concatenate str (not \"bool\") to str",
          "traceback": [
            "\u001b[0;31m---------------------------------------------------------------------------\u001b[0m",
            "\u001b[0;31mTypeError\u001b[0m                                 Traceback (most recent call last)",
            "\u001b[0;32m/tmp/ipython-input-986318647.py\u001b[0m in \u001b[0;36m<cell line: 0>\u001b[0;34m()\u001b[0m\n\u001b[0;32m----> 1\u001b[0;31m \u001b[0mapresentacao\u001b[0m \u001b[0;34m=\u001b[0m \u001b[0;34m'Fala pessoal, meu nome é '\u001b[0m \u001b[0;34m+\u001b[0m \u001b[0mnome\u001b[0m \u001b[0;34m+\u001b[0m \u001b[0;34m' e eu tenho '\u001b[0m \u001b[0;34m+\u001b[0m \u001b[0midade\u001b[0m \u001b[0;34m+\u001b[0m \u001b[0;34m' anos'\u001b[0m\u001b[0;34m\u001b[0m\u001b[0;34m\u001b[0m\u001b[0m\n\u001b[0m",
            "\u001b[0;31mTypeError\u001b[0m: can only concatenate str (not \"bool\") to str"
          ]
        }
      ]
    },
    {
      "cell_type": "code",
      "source": [
        "anos = [2019, 2020, 2021]"
      ],
      "metadata": {
        "id": "7KWUe2luvRxq"
      },
      "execution_count": 5,
      "outputs": []
    },
    {
      "cell_type": "code",
      "source": [
        "ano_atual = anos[3]"
      ],
      "metadata": {
        "colab": {
          "base_uri": "https://localhost:8080/",
          "height": 141
        },
        "id": "1UbHJLaivUAS",
        "outputId": "8d31307f-c952-46b8-9f75-cc165bfe7d62"
      },
      "execution_count": 6,
      "outputs": [
        {
          "output_type": "error",
          "ename": "IndexError",
          "evalue": "list index out of range",
          "traceback": [
            "\u001b[0;31m---------------------------------------------------------------------------\u001b[0m",
            "\u001b[0;31mIndexError\u001b[0m                                Traceback (most recent call last)",
            "\u001b[0;32m/tmp/ipython-input-961099230.py\u001b[0m in \u001b[0;36m<cell line: 0>\u001b[0;34m()\u001b[0m\n\u001b[0;32m----> 1\u001b[0;31m \u001b[0mano_atual\u001b[0m \u001b[0;34m=\u001b[0m \u001b[0manos\u001b[0m\u001b[0;34m[\u001b[0m\u001b[0;36m3\u001b[0m\u001b[0;34m]\u001b[0m\u001b[0;34m\u001b[0m\u001b[0;34m\u001b[0m\u001b[0m\n\u001b[0m",
            "\u001b[0;31mIndexError\u001b[0m: list index out of range"
          ]
        }
      ]
    },
    {
      "cell_type": "code",
      "source": [
        "cursos = {\n",
        "    'python': {\n",
        "        'nome': 'Python para Análise de Dados', 'duracao': 2.5\n",
        "    },\n",
        "    'sql': {\n",
        "        'nome': 'SQL para Análise de Dados', 'duracao': 2\n",
        "    }\n",
        "}"
      ],
      "metadata": {
        "id": "aobVhJvcwB7_"
      },
      "execution_count": 7,
      "outputs": []
    },
    {
      "cell_type": "code",
      "source": [
        "curso_atual = cursos['analista']"
      ],
      "metadata": {
        "colab": {
          "base_uri": "https://localhost:8080/",
          "height": 141
        },
        "id": "HlNUpYOxwJ1H",
        "outputId": "0b70a7cf-8074-4554-d624-8fbe89e4e656"
      },
      "execution_count": 8,
      "outputs": [
        {
          "output_type": "error",
          "ename": "KeyError",
          "evalue": "'analista'",
          "traceback": [
            "\u001b[0;31m---------------------------------------------------------------------------\u001b[0m",
            "\u001b[0;31mKeyError\u001b[0m                                  Traceback (most recent call last)",
            "\u001b[0;32m/tmp/ipython-input-163114429.py\u001b[0m in \u001b[0;36m<cell line: 0>\u001b[0;34m()\u001b[0m\n\u001b[0;32m----> 1\u001b[0;31m \u001b[0mcurso_atual\u001b[0m \u001b[0;34m=\u001b[0m \u001b[0mcursos\u001b[0m\u001b[0;34m[\u001b[0m\u001b[0;34m'analista'\u001b[0m\u001b[0;34m]\u001b[0m\u001b[0;34m\u001b[0m\u001b[0;34m\u001b[0m\u001b[0m\n\u001b[0m",
            "\u001b[0;31mKeyError\u001b[0m: 'analista'"
          ]
        }
      ]
    },
    {
      "cell_type": "code",
      "source": [
        "preco = 132.85\n",
        "pessoas = 2\n",
        "\n",
        "try:\n",
        "  valor_por_pessoa = preco / pessoas\n",
        "  print(valor_por_pessoa)\n",
        "except ZeroDivisionError:\n",
        "  print('Número de pessoas inválido. Espera-se um valor maior que 0 e obteve-se um valor igual a ' + str(pessoas))"
      ],
      "metadata": {
        "colab": {
          "base_uri": "https://localhost:8080/"
        },
        "id": "U_wOHiM-xlDR",
        "outputId": "06f88221-6fa7-4bd6-ad8f-7107753881a6"
      },
      "execution_count": 9,
      "outputs": [
        {
          "output_type": "stream",
          "name": "stdout",
          "text": [
            "66.425\n"
          ]
        }
      ]
    },
    {
      "cell_type": "code",
      "source": [
        "anos = [2019, 2020, 2021]\n",
        "\n",
        "try:\n",
        "  ano_atual = anos[3]\n",
        "  print(ano_atual)\n",
        "except Exception:\n",
        "  print('Lista de anos é menor que o valor escolhido. Espera-se um valor entre 0 e ' + str(len(anos) - 1))"
      ],
      "metadata": {
        "colab": {
          "base_uri": "https://localhost:8080/"
        },
        "id": "-6bCSEF-yD3l",
        "outputId": "07c47732-215e-4920-e4dc-274e76afac60"
      },
      "execution_count": 10,
      "outputs": [
        {
          "output_type": "stream",
          "name": "stdout",
          "text": [
            "Lista de anos é menor que o valor escolhido. Espera-se um valor entre 0 e 2\n"
          ]
        }
      ]
    },
    {
      "cell_type": "code",
      "source": [
        "anos = [2019, 2020, 2021]\n",
        "\n",
        "try:\n",
        "  ano_atual = anos[3]\n",
        "  print(ano_atual)\n",
        "except Exception as exc:\n",
        "  print('Descrição da exceção: ' + str(exc))\n",
        "  print('Tipo da exceção: ' + str(type(exc)))\n",
        "  print('Lista de anos é menor que o valor escolhido. Espera-se um valor entre 0 e ' + str(len(anos) - 1))"
      ],
      "metadata": {
        "colab": {
          "base_uri": "https://localhost:8080/"
        },
        "id": "PtBJZmw0yStO",
        "outputId": "229cecbb-0084-4f90-e11c-9af6b79bfa18"
      },
      "execution_count": 11,
      "outputs": [
        {
          "output_type": "stream",
          "name": "stdout",
          "text": [
            "Descrição da exceção: list index out of range\n",
            "Tipo da exceção: <class 'IndexError'>\n",
            "Lista de anos é menor que o valor escolhido. Espera-se um valor entre 0 e 2\n"
          ]
        }
      ]
    },
    {
      "cell_type": "code",
      "source": [
        "anos = [2019, 2020, 2021]\n",
        "\n",
        "try:\n",
        "  ano_atual = anos[3]\n",
        "  print(ano_atual)\n",
        "except IndexError:\n",
        "  print('Lista de anos é menor que o valor escolhido. Espera-se um valor entre 0 e ' + str(len(anos) - 1))\n",
        "except Exception as exc:\n",
        "  print(exc)\n",
        "  print('Erro genérico')"
      ],
      "metadata": {
        "colab": {
          "base_uri": "https://localhost:8080/"
        },
        "id": "JUbu_IrDyVfO",
        "outputId": "14d0cbe9-14a7-44d7-bac0-1f876436dfae"
      },
      "execution_count": 12,
      "outputs": [
        {
          "output_type": "stream",
          "name": "stdout",
          "text": [
            "Lista de anos é menor que o valor escolhido. Espera-se um valor entre 0 e 2\n"
          ]
        }
      ]
    },
    {
      "cell_type": "code",
      "source": [
        "nome = 'Andre Perez'\n",
        "idade = 19\n",
        "\n",
        "try:\n",
        "  apresentacao = 'Fala pessoal, meu nome é ' + nome + ' e eu tenho ' + idade + ' anos'\n",
        "  print(apresentacao)\n",
        "except TypeError:\n",
        "  idade = str(idade)\n",
        "finally:\n",
        "  print('Segunda chance')\n",
        "  apresentacao = 'Fala pessoal, meu nome é ' + nome + ' e eu tenho ' + idade + ' anos'\n",
        "  print(apresentacao)"
      ],
      "metadata": {
        "colab": {
          "base_uri": "https://localhost:8080/"
        },
        "id": "TEGO_x0p1W8R",
        "outputId": "c1a4ae01-dbc1-4e6f-9c7e-0c67c5c6e9ca"
      },
      "execution_count": 13,
      "outputs": [
        {
          "output_type": "stream",
          "name": "stdout",
          "text": [
            "Segunda chance\n",
            "Fala pessoal, meu nome é Andre Perez e eu tenho 19 anos\n"
          ]
        }
      ]
    },
    {
      "cell_type": "code",
      "source": [
        "for valor in range(6):\n",
        "  print(valor)"
      ],
      "metadata": {
        "colab": {
          "base_uri": "https://localhost:8080/"
        },
        "id": "cVsStS36Rgon",
        "outputId": "3853452a-7711-487a-fe02-e020d41e7c55"
      },
      "execution_count": 1,
      "outputs": [
        {
          "output_type": "stream",
          "name": "stdout",
          "text": [
            "0\n",
            "1\n",
            "2\n",
            "3\n",
            "4\n",
            "5\n"
          ]
        }
      ]
    },
    {
      "cell_type": "code",
      "source": [
        "soma = 0\n",
        "\n",
        "for valor in range(0, 100000):\n",
        "  soma = soma + valor\n",
        "  # print(soma)\n",
        "\n",
        "print(soma)"
      ],
      "metadata": {
        "colab": {
          "base_uri": "https://localhost:8080/"
        },
        "id": "8Tmo2YH5Ri2A",
        "outputId": "44fe7312-c935-4932-e339-b491cb3c5dbf"
      },
      "execution_count": 2,
      "outputs": [
        {
          "output_type": "stream",
          "name": "stdout",
          "text": [
            "4999950000\n"
          ]
        }
      ]
    },
    {
      "cell_type": "code",
      "source": [
        "for multiplo_dois in range(2, 10, 3):\n",
        "  print(multiplo_dois)"
      ],
      "metadata": {
        "colab": {
          "base_uri": "https://localhost:8080/"
        },
        "id": "aTksnSfJRnoI",
        "outputId": "1676433f-acf6-4748-debe-fa92184113d8"
      },
      "execution_count": 3,
      "outputs": [
        {
          "output_type": "stream",
          "name": "stdout",
          "text": [
            "2\n",
            "5\n",
            "8\n"
          ]
        }
      ]
    },
    {
      "cell_type": "code",
      "source": [
        "frutas = ['maca', 'banana', 'laranja', 'uva', 'pera']\n",
        "\n",
        "for fruta in frutas:\n",
        "  print(fruta)"
      ],
      "metadata": {
        "colab": {
          "base_uri": "https://localhost:8080/"
        },
        "id": "KzROavxWVpOD",
        "outputId": "47d7bb01-2491-4153-bdc5-03b707284047"
      },
      "execution_count": 4,
      "outputs": [
        {
          "output_type": "stream",
          "name": "stdout",
          "text": [
            "maca\n",
            "banana\n",
            "laranja\n",
            "uva\n",
            "pera\n"
          ]
        }
      ]
    },
    {
      "cell_type": "code",
      "source": [
        "frase = 'Fala pessoal, meu nome é André Perez.'\n",
        "\n",
        "for caracter in frase:\n",
        "  if (caracter == 'A') | (caracter == 'z'):\n",
        "    print(f\"A letra '{caracter}' está presente na frase.\")"
      ],
      "metadata": {
        "colab": {
          "base_uri": "https://localhost:8080/"
        },
        "id": "l20HspknVqu8",
        "outputId": "2775e3dd-013d-448e-e894-fe10e34e9c4c"
      },
      "execution_count": 5,
      "outputs": [
        {
          "output_type": "stream",
          "name": "stdout",
          "text": [
            "A letra 'A' está presente na frase.\n",
            "A letra 'z' está presente na frase.\n"
          ]
        }
      ]
    },
    {
      "cell_type": "code",
      "source": [
        "credito = {'123': 750, '456': 812, '789': 980}"
      ],
      "metadata": {
        "id": "2Km-3b-pXeF2"
      },
      "execution_count": 6,
      "outputs": []
    },
    {
      "cell_type": "code",
      "source": [
        "for chave, valor in credito.items():\n",
        "  print(f'Para o documento {chave}, o valor do escore de crédito é {valor}.')\n",
        "  print('\\n')"
      ],
      "metadata": {
        "colab": {
          "base_uri": "https://localhost:8080/"
        },
        "id": "b-sqyF26XgAN",
        "outputId": "c8e959e5-26ef-45b2-f441-c5a7799dc9fb"
      },
      "execution_count": 7,
      "outputs": [
        {
          "output_type": "stream",
          "name": "stdout",
          "text": [
            "Para o documento 123, o valor do escore de crédito é 750.\n",
            "\n",
            "\n",
            "Para o documento 456, o valor do escore de crédito é 812.\n",
            "\n",
            "\n",
            "Para o documento 789, o valor do escore de crédito é 980.\n",
            "\n",
            "\n"
          ]
        }
      ]
    },
    {
      "cell_type": "code",
      "source": [
        "for chave in credito.keys():\n",
        "  print(chave)\n",
        "  print(credito[chave])\n",
        "  print(f'Para o documento {chave}, o valor do escore de crédito é {credito[chave]}.')\n",
        "  print('\\n')"
      ],
      "metadata": {
        "colab": {
          "base_uri": "https://localhost:8080/"
        },
        "id": "6CkZL2AYXk-e",
        "outputId": "74d4b1d5-7f29-4054-862d-ae5b5f930572"
      },
      "execution_count": 8,
      "outputs": [
        {
          "output_type": "stream",
          "name": "stdout",
          "text": [
            "123\n",
            "750\n",
            "Para o documento 123, o valor do escore de crédito é 750.\n",
            "\n",
            "\n",
            "456\n",
            "812\n",
            "Para o documento 456, o valor do escore de crédito é 812.\n",
            "\n",
            "\n",
            "789\n",
            "980\n",
            "Para o documento 789, o valor do escore de crédito é 980.\n",
            "\n",
            "\n"
          ]
        }
      ]
    },
    {
      "cell_type": "code",
      "source": [
        "for valor in credito.values():\n",
        "  print(valor)\n",
        "  print(f'O valor do escore de crédito é {valor}, mas não temos mais as chaves :(.')\n",
        "  print('\\n')"
      ],
      "metadata": {
        "colab": {
          "base_uri": "https://localhost:8080/"
        },
        "id": "TztEoWDqXs4f",
        "outputId": "5ae8a7ea-68ea-4a12-81e3-7e4bd4ac3096"
      },
      "execution_count": 9,
      "outputs": [
        {
          "output_type": "stream",
          "name": "stdout",
          "text": [
            "750\n",
            "O valor do escore de crédito é 750, mas não temos mais as chaves :(.\n",
            "\n",
            "\n",
            "812\n",
            "O valor do escore de crédito é 812, mas não temos mais as chaves :(.\n",
            "\n",
            "\n",
            "980\n",
            "O valor do escore de crédito é 980, mas não temos mais as chaves :(.\n",
            "\n",
            "\n"
          ]
        }
      ]
    },
    {
      "cell_type": "code",
      "source": [
        "for i in range(0, 10*10*10*10*10*10):\n",
        "  print(i)\n",
        "  if i == 10:\n",
        "    break"
      ],
      "metadata": {
        "colab": {
          "base_uri": "https://localhost:8080/"
        },
        "id": "ZIBLndHQZUd6",
        "outputId": "868f0186-ee76-4f82-97d3-3ae8fc541fa4"
      },
      "execution_count": 10,
      "outputs": [
        {
          "output_type": "stream",
          "name": "stdout",
          "text": [
            "0\n",
            "1\n",
            "2\n",
            "3\n",
            "4\n",
            "5\n",
            "6\n",
            "7\n",
            "8\n",
            "9\n",
            "10\n"
          ]
        }
      ]
    },
    {
      "cell_type": "code",
      "source": [
        "numero = 3\n",
        "\n",
        "if numero % 2 == 0:\n",
        "  print(f'O numero {numero} é par')\n",
        "else:\n",
        "  print(f'O numero {numero} é impar')"
      ],
      "metadata": {
        "colab": {
          "base_uri": "https://localhost:8080/"
        },
        "id": "a1fHB3kqZa0T",
        "outputId": "66d5c6ce-9883-433a-841c-6d1053bca0ff"
      },
      "execution_count": 11,
      "outputs": [
        {
          "output_type": "stream",
          "name": "stdout",
          "text": [
            "O numero 3 é impar\n"
          ]
        }
      ]
    },
    {
      "cell_type": "code",
      "source": [
        "numeros = [361, 553, 194, 13, 510, 33, 135]\n",
        "\n",
        "for numero in numeros:\n",
        "\n",
        "  if numero % 2 == 0:\n",
        "    print(f'O numero {numero} é par')\n",
        "    break\n",
        "  else:\n",
        "    print(f'O numero {numero} é impar')"
      ],
      "metadata": {
        "colab": {
          "base_uri": "https://localhost:8080/"
        },
        "id": "clm5X1roZcYa",
        "outputId": "db26620b-9621-48c4-c04b-1690dce94c01"
      },
      "execution_count": 12,
      "outputs": [
        {
          "output_type": "stream",
          "name": "stdout",
          "text": [
            "O numero 361 é impar\n",
            "O numero 553 é impar\n",
            "O numero 194 é par\n"
          ]
        }
      ]
    },
    {
      "cell_type": "code",
      "source": [
        "numeros = [361, 553, 194, 13, 510, 33, 135]\n",
        "\n",
        "for numero in numeros:\n",
        "\n",
        "  if numero % 2 == 0:\n",
        "    print(f'O numero {numero} é par')\n",
        "    break\n",
        "  else:\n",
        "    continue\n",
        "    print(f'O numero {numero} é impar')"
      ],
      "metadata": {
        "colab": {
          "base_uri": "https://localhost:8080/"
        },
        "id": "HUfSb48EZjwL",
        "outputId": "b5fe5ad4-9ead-4575-a020-d175b92a1c2d"
      },
      "execution_count": 13,
      "outputs": [
        {
          "output_type": "stream",
          "name": "stdout",
          "text": [
            "O numero 194 é par\n"
          ]
        }
      ]
    }
  ]
}