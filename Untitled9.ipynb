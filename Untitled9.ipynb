{
  "nbformat": 4,
  "nbformat_minor": 0,
  "metadata": {
    "colab": {
      "provenance": [],
      "authorship_tag": "ABX9TyOa7VIhxKqnx+f8Q97eciPM",
      "include_colab_link": true
    },
    "kernelspec": {
      "name": "python3",
      "display_name": "Python 3"
    },
    "language_info": {
      "name": "python"
    }
  },
  "cells": [
    {
      "cell_type": "markdown",
      "metadata": {
        "id": "view-in-github",
        "colab_type": "text"
      },
      "source": [
        "<a href=\"https://colab.research.google.com/github/Evaldoer/Cartorioebac/blob/main/Untitled9.ipynb\" target=\"_parent\"><img src=\"https://colab.research.google.com/assets/colab-badge.svg\" alt=\"Open In Colab\"/></a>"
      ]
    },
    {
      "cell_type": "markdown",
      "source": [
        "<img src=\"https://raw.githubusercontent.com/andre-marcos-perez/ebac-course-utils/main/media/logo/newebac_logo_black_half.png\" alt=\"ebac-logo\">\n",
        "\n",
        "---\n",
        "\n",
        "# **Módulo** | Python: Tratamento de Erros\n",
        "Caderno de **Aula**<br>\n",
        "Professor [André Perez](https://www.linkedin.com/in/andremarcosperez/)\n",
        "\n",
        "---"
      ],
      "metadata": {
        "id": "d30rqXo_ioI3"
      }
    },
    {
      "cell_type": "markdown",
      "source": [
        "# **Tópicos**\n",
        "\n",
        "<ol type=\"1\">\n",
        "  <li>Tipos de erros;</li>\n",
        "  <li>Erros de sintaxe;</li>\n",
        "  <li>Erros em tempo de execução.</li>\n",
        "</ol>"
      ],
      "metadata": {
        "id": "H9tb5Vqmi6Fx"
      }
    },
    {
      "cell_type": "markdown",
      "source": [
        "# **Aulas**"
      ],
      "metadata": {
        "id": "x_B6BmUMjIrC"
      }
    },
    {
      "cell_type": "markdown",
      "source": [
        "## 1\\. Tipos de erros"
      ],
      "metadata": {
        "id": "2afxaYQAjQjb"
      }
    },
    {
      "cell_type": "markdown",
      "source": [
        "### **1.1. Definição**"
      ],
      "metadata": {
        "id": "t-RTghcijXHj"
      }
    },
    {
      "cell_type": "markdown",
      "source": [
        " - **Erros de sintaxe**: erros que ocorrem durante a escrita do código."
      ],
      "metadata": {
        "id": "EW8JWIvajf9E"
      }
    },
    {
      "cell_type": "code",
      "source": [
        "pessoa = {'nome':'Andre Perez', 'idade': 19}\n",
        "if pessoa['idade'] > 18:\n",
        " print(True)"
      ],
      "metadata": {
        "colab": {
          "base_uri": "https://localhost:8080/"
        },
        "id": "By9w_n8Jjlpk",
        "outputId": "b31f6bce-7919-40a6-b524-0f54c6d0b8d1"
      },
      "execution_count": null,
      "outputs": [
        {
          "output_type": "stream",
          "name": "stdout",
          "text": [
            "True\n"
          ]
        }
      ]
    },
    {
      "cell_type": "markdown",
      "source": [
        " - **Erros em tempo de execução**: erros que ocorrem durante a execução do código."
      ],
      "metadata": {
        "id": "YSBRUHbCju4t"
      }
    },
    {
      "cell_type": "markdown",
      "source": [
        "Erros de uso incorreto de tipos de dados."
      ],
      "metadata": {
        "id": "68F7Wsy_j0SG"
      }
    },
    {
      "cell_type": "code",
      "source": [
        "print(1 + 'Evaldo')"
      ],
      "metadata": {
        "colab": {
          "base_uri": "https://localhost:8080/",
          "height": 146
        },
        "id": "7R_5nygRj4QO",
        "outputId": "9090ec30-0caf-49e3-a22d-4786c4755d19"
      },
      "execution_count": null,
      "outputs": [
        {
          "output_type": "error",
          "ename": "TypeError",
          "evalue": "unsupported operand type(s) for +: 'int' and 'str'",
          "traceback": [
            "\u001b[0;31m---------------------------------------------------------------------------\u001b[0m",
            "\u001b[0;31mTypeError\u001b[0m                                 Traceback (most recent call last)",
            "\u001b[0;32m/tmp/ipython-input-3683739718.py\u001b[0m in \u001b[0;36m<cell line: 0>\u001b[0;34m()\u001b[0m\n\u001b[0;32m----> 1\u001b[0;31m \u001b[0mprint\u001b[0m\u001b[0;34m(\u001b[0m\u001b[0;36m1\u001b[0m \u001b[0;34m+\u001b[0m \u001b[0;34m'Evaldo'\u001b[0m\u001b[0;34m)\u001b[0m\u001b[0;34m\u001b[0m\u001b[0;34m\u001b[0m\u001b[0m\n\u001b[0m",
            "\u001b[0;31mTypeError\u001b[0m: unsupported operand type(s) for +: 'int' and 'str'"
          ]
        }
      ]
    },
    {
      "cell_type": "markdown",
      "source": [
        "Erros de lógica."
      ],
      "metadata": {
        "id": "So0PWklij-f_"
      }
    },
    {
      "cell_type": "code",
      "source": [
        "i = 0\n",
        "while True:\n",
        "  ... # bloco de código\n",
        "  i = 1\n",
        "  i + 1\n",
        "  if i > 10:\n",
        "    break\n",
        "print(i)"
      ],
      "metadata": {
        "colab": {
          "base_uri": "https://localhost:8080/",
          "height": 219
        },
        "id": "8ZoRV9vUkDvH",
        "outputId": "cdfd084f-9444-4b55-872a-cbbe3bed073a"
      },
      "execution_count": null,
      "outputs": [
        {
          "output_type": "error",
          "ename": "KeyboardInterrupt",
          "evalue": "",
          "traceback": [
            "\u001b[0;31m---------------------------------------------------------------------------\u001b[0m",
            "\u001b[0;31mKeyboardInterrupt\u001b[0m                         Traceback (most recent call last)",
            "\u001b[0;32m/tmp/ipython-input-635189351.py\u001b[0m in \u001b[0;36m<cell line: 0>\u001b[0;34m()\u001b[0m\n\u001b[1;32m      1\u001b[0m \u001b[0mi\u001b[0m \u001b[0;34m=\u001b[0m \u001b[0;36m0\u001b[0m\u001b[0;34m\u001b[0m\u001b[0;34m\u001b[0m\u001b[0m\n\u001b[0;32m----> 2\u001b[0;31m \u001b[0;32mwhile\u001b[0m \u001b[0;32mTrue\u001b[0m\u001b[0;34m:\u001b[0m\u001b[0;34m\u001b[0m\u001b[0;34m\u001b[0m\u001b[0m\n\u001b[0m\u001b[1;32m      3\u001b[0m   \u001b[0;34m...\u001b[0m \u001b[0;31m# bloco de código\u001b[0m\u001b[0;34m\u001b[0m\u001b[0;34m\u001b[0m\u001b[0m\n\u001b[1;32m      4\u001b[0m   \u001b[0mi\u001b[0m \u001b[0;34m=\u001b[0m \u001b[0;36m1\u001b[0m\u001b[0;34m\u001b[0m\u001b[0;34m\u001b[0m\u001b[0m\n\u001b[1;32m      5\u001b[0m   \u001b[0mi\u001b[0m \u001b[0;34m+\u001b[0m \u001b[0;36m1\u001b[0m\u001b[0;34m\u001b[0m\u001b[0;34m\u001b[0m\u001b[0m\n",
            "\u001b[0;31mKeyboardInterrupt\u001b[0m: "
          ]
        }
      ]
    },
    {
      "cell_type": "markdown",
      "source": [
        "## 2\\. Erros de sintaxe"
      ],
      "metadata": {
        "id": "NIlJUVFMkMzw"
      }
    },
    {
      "cell_type": "markdown",
      "source": [
        "### **2.1. Definição**"
      ],
      "metadata": {
        "id": "C6UqikxjkRwp"
      }
    },
    {
      "cell_type": "markdown",
      "source": [
        "São erros que ocorrem durante a escrita do código. O trecho do código **não é** executado."
      ],
      "metadata": {
        "id": "gkj5hMqQkXx5"
      }
    },
    {
      "cell_type": "code",
      "source": [
        "carrinho_compras = [{'id': 3184, 'preco': 37.65, 'qtd': 10}, {'id': 1203, 'preco': 81.20, 'qtd': 2}, {'id': 8921, 'preco': 15.90, 'qtd': 2}]"
      ],
      "metadata": {
        "id": "kVQhGnVRkjf7"
      },
      "execution_count": null,
      "outputs": []
    },
    {
      "cell_type": "markdown",
      "source": [
        "**Exemplo**: Esquecer o 'dois pontos' `:` no final de estruturas de condição, repetição, etc."
      ],
      "metadata": {
        "id": "aP2AqHNUkqkL"
      }
    },
    {
      "cell_type": "code",
      "source": [
        "for produto in carrinho_compras:\n",
        "  ..."
      ],
      "metadata": {
        "id": "MMdtaUeBkvC8"
      },
      "execution_count": null,
      "outputs": []
    },
    {
      "cell_type": "markdown",
      "source": [
        "**Exemplo**: Condição lógica no `else` da estrutura de decisão `if-elif-else`."
      ],
      "metadata": {
        "id": "Rjzn-p_uk2q8"
      }
    },
    {
      "cell_type": "code",
      "source": [
        "for produto in carrinho_compras:\n",
        "  if produto['id'] == 3184:\n",
        "    ...\n",
        "  elif produto['id'] == 1203:\n",
        "    ..."
      ],
      "metadata": {
        "id": "lMPvIMlEk8HF"
      },
      "execution_count": null,
      "outputs": []
    },
    {
      "cell_type": "markdown",
      "source": [
        "### **2.2. Manipulação**"
      ],
      "metadata": {
        "id": "j0MbvjqGbb9F"
      }
    },
    {
      "cell_type": "markdown",
      "source": [
        "## 3\\. Erros em tempo de execução"
      ],
      "metadata": {
        "id": "tJhsb4xubfnE"
      }
    },
    {
      "cell_type": "markdown",
      "source": [
        "### **3.1. Motivação**"
      ],
      "metadata": {
        "id": "OqlicuhxblGd"
      }
    },
    {
      "cell_type": "markdown",
      "source": [
        "Você trabalha como analista de dados em uma empresa de telecomunicações. Você precisa fazer uma análise para o time de vendas do quanto a empresa vai receber este mês. Diariamente você recebe do time de engenharia os dados."
      ],
      "metadata": {
        "id": "UoHlByHObtP-"
      }
    },
    {
      "cell_type": "code",
      "source": [
        "%%writefile telecom.csv\n",
        "customerID,PaymentMethod,MonthlyCharges,TotalCharges,Churn\n",
        "7010-BRBUU,Credit card (automatic),24.1,1734.65,No\n",
        "9688-YGXVR,Credit card (automatic),88.15,3973.2,No\n",
        "9286-DOJGF,Bank transfer (automatic),74.95,2869.85,Yes\n",
        "6994-KERXL,Electronic check,55.9,238.5,No\n",
        "2181-UAESM,Electronic check,53.45,119.5,No\n",
        "4312-GVYNH,Bank transfer (automatic),49.85,3370.2,No\n",
        "2495-KZNFB,Electronic check,90.65,2989.6,No\n",
        "4367-NHWMM,Mailed check,24.9,24.9,No\n",
        "8898-KASCD,Mailed check,35.55,1309.15,No"
      ],
      "metadata": {
        "colab": {
          "base_uri": "https://localhost:8080/"
        },
        "id": "myPW6Soib1vm",
        "outputId": "41a31cbf-53a4-486e-b9a0-932e00b5de7a"
      },
      "execution_count": 1,
      "outputs": [
        {
          "output_type": "stream",
          "name": "stdout",
          "text": [
            "Writing telecom.csv\n"
          ]
        }
      ]
    },
    {
      "cell_type": "code",
      "source": [
        "from functools import reduce\n",
        "\n",
        "def processar_faturas(nome_arquivo: str) -> float:\n",
        "\n",
        "  faturas = []\n",
        "\n",
        "  with open(file=nome_arquivo, mode='r', encoding='utf8') as arquivo:\n",
        "    linha = arquivo.readline()\n",
        "    linha = arquivo.readline()\n",
        "    while linha:\n",
        "      fatura = float(linha.strip().split(sep=',')[-3])\n",
        "      faturas.append(fatura)\n",
        "      linha = arquivo.readline()\n",
        "\n",
        "  total_a_pagar = reduce(lambda x, y: x + y, faturas)\n",
        "  total_a_pagar = round(total_a_pagar, 2)\n",
        "\n",
        "  return total_a_pagar"
      ],
      "metadata": {
        "id": "PiaCcuy0b9Sf"
      },
      "execution_count": 2,
      "outputs": []
    },
    {
      "cell_type": "code",
      "source": [
        "total_a_pagar = processar_faturas(nome_arquivo='./telecom.csv')\n",
        "print(total_a_pagar)"
      ],
      "metadata": {
        "id": "ucctribDcFhQ",
        "colab": {
          "base_uri": "https://localhost:8080/",
          "height": 292
        },
        "outputId": "15981ec6-d235-4908-b573-fb0c7fec08fa"
      },
      "execution_count": 5,
      "outputs": [
        {
          "output_type": "error",
          "ename": "ValueError",
          "evalue": "could not convert string to float: 'Credit card (automatic)'",
          "traceback": [
            "\u001b[0;31m---------------------------------------------------------------------------\u001b[0m",
            "\u001b[0;31mValueError\u001b[0m                                Traceback (most recent call last)",
            "\u001b[0;32m/tmp/ipython-input-1680618361.py\u001b[0m in \u001b[0;36m<cell line: 0>\u001b[0;34m()\u001b[0m\n\u001b[0;32m----> 1\u001b[0;31m \u001b[0mtotal_a_pagar\u001b[0m \u001b[0;34m=\u001b[0m \u001b[0mprocessar_faturas\u001b[0m\u001b[0;34m(\u001b[0m\u001b[0mnome_arquivo\u001b[0m\u001b[0;34m=\u001b[0m\u001b[0;34m'./telecom.csv'\u001b[0m\u001b[0;34m)\u001b[0m\u001b[0;34m\u001b[0m\u001b[0;34m\u001b[0m\u001b[0m\n\u001b[0m\u001b[1;32m      2\u001b[0m \u001b[0mprint\u001b[0m\u001b[0;34m(\u001b[0m\u001b[0mtotal_a_pagar\u001b[0m\u001b[0;34m)\u001b[0m\u001b[0;34m\u001b[0m\u001b[0;34m\u001b[0m\u001b[0m\n",
            "\u001b[0;32m/tmp/ipython-input-2612335616.py\u001b[0m in \u001b[0;36mprocessar_faturas\u001b[0;34m(nome_arquivo)\u001b[0m\n\u001b[1;32m      9\u001b[0m     \u001b[0mlinha\u001b[0m \u001b[0;34m=\u001b[0m \u001b[0marquivo\u001b[0m\u001b[0;34m.\u001b[0m\u001b[0mreadline\u001b[0m\u001b[0;34m(\u001b[0m\u001b[0;34m)\u001b[0m\u001b[0;34m\u001b[0m\u001b[0;34m\u001b[0m\u001b[0m\n\u001b[1;32m     10\u001b[0m     \u001b[0;32mwhile\u001b[0m \u001b[0mlinha\u001b[0m\u001b[0;34m:\u001b[0m\u001b[0;34m\u001b[0m\u001b[0;34m\u001b[0m\u001b[0m\n\u001b[0;32m---> 11\u001b[0;31m       \u001b[0mfatura\u001b[0m \u001b[0;34m=\u001b[0m \u001b[0mfloat\u001b[0m\u001b[0;34m(\u001b[0m\u001b[0mlinha\u001b[0m\u001b[0;34m.\u001b[0m\u001b[0mstrip\u001b[0m\u001b[0;34m(\u001b[0m\u001b[0;34m)\u001b[0m\u001b[0;34m.\u001b[0m\u001b[0msplit\u001b[0m\u001b[0;34m(\u001b[0m\u001b[0msep\u001b[0m\u001b[0;34m=\u001b[0m\u001b[0;34m','\u001b[0m\u001b[0;34m)\u001b[0m\u001b[0;34m[\u001b[0m\u001b[0;34m-\u001b[0m\u001b[0;36m3\u001b[0m\u001b[0;34m]\u001b[0m\u001b[0;34m)\u001b[0m\u001b[0;34m\u001b[0m\u001b[0;34m\u001b[0m\u001b[0m\n\u001b[0m\u001b[1;32m     12\u001b[0m       \u001b[0mfaturas\u001b[0m\u001b[0;34m.\u001b[0m\u001b[0mappend\u001b[0m\u001b[0;34m(\u001b[0m\u001b[0mfatura\u001b[0m\u001b[0;34m)\u001b[0m\u001b[0;34m\u001b[0m\u001b[0;34m\u001b[0m\u001b[0m\n\u001b[1;32m     13\u001b[0m       \u001b[0mlinha\u001b[0m \u001b[0;34m=\u001b[0m \u001b[0marquivo\u001b[0m\u001b[0;34m.\u001b[0m\u001b[0mreadline\u001b[0m\u001b[0;34m(\u001b[0m\u001b[0;34m)\u001b[0m\u001b[0;34m\u001b[0m\u001b[0;34m\u001b[0m\u001b[0m\n",
            "\u001b[0;31mValueError\u001b[0m: could not convert string to float: 'Credit card (automatic)'"
          ]
        }
      ]
    },
    {
      "cell_type": "markdown",
      "source": [
        "Em um certo dia, você recebe uma base de dados com a coluna de faturas trocada pela de meios de pagamento."
      ],
      "metadata": {
        "id": "utWFf4CCcMPa"
      }
    },
    {
      "cell_type": "code",
      "source": [
        "%%writefile telecom.csv\n",
        "customerID,MonthlyCharges,PaymentMethod,TotalCharges,Churn\n",
        "7010-BRBUU,24.1,Credit card (automatic),1734.65,No\n",
        "9688-YGXVR,88.15,Credit card (automatic),3973.2,No\n",
        "9286-DOJGF,74.95,Bank transfer (automatic),2869.85,Yes\n",
        "6994-KERXL,55.9,Electronic check,238.5,No\n",
        "2181-UAESM,53.45,Electronic check,119.5,No\n",
        "4312-GVYNH,49.85,Bank transfer (automatic),3370.2,No\n",
        "2495-KZNFB,90.65,Electronic check,2989.6,No\n",
        "4367-NHWMM,24.9,Mailed check,24.9,No\n",
        "8898-KASCD,35.55,Mailed check,1309.15,No"
      ],
      "metadata": {
        "id": "7JlWCt7zcWIy",
        "colab": {
          "base_uri": "https://localhost:8080/"
        },
        "outputId": "368b920f-17b9-450f-8132-00b4b054c367"
      },
      "execution_count": 4,
      "outputs": [
        {
          "output_type": "stream",
          "name": "stdout",
          "text": [
            "Overwriting telecom.csv\n"
          ]
        }
      ]
    },
    {
      "cell_type": "markdown",
      "source": [
        "### **3.2. Definição**"
      ],
      "metadata": {
        "id": "m-6vXskB95jS"
      }
    },
    {
      "cell_type": "markdown",
      "source": [
        "São erros que ocorrem durante a execução do código. O trecho do código **é** executado até o erro 'estourar'."
      ],
      "metadata": {
        "id": "6zqtcbGG-Gab"
      }
    },
    {
      "cell_type": "markdown",
      "source": [
        "Erros por uso incorreto de tipos de dados. 'Estoura' exceção. Podem ser manipulados ou passados para frente (`raise`)."
      ],
      "metadata": {
        "id": "Cd_Q-is7cug1"
      }
    },
    {
      "cell_type": "markdown",
      "source": [
        " - **Exemplo**: Erro de operações numéricas impossíveis"
      ],
      "metadata": {
        "id": "05XvOqMwc3uN"
      }
    },
    {
      "cell_type": "code",
      "source": [
        "preco = 132.85\n",
        "pessoas = 0"
      ],
      "metadata": {
        "id": "pSJcwad8c7tP"
      },
      "execution_count": 6,
      "outputs": []
    },
    {
      "cell_type": "code",
      "source": [
        "valor_por_pessoa = preco / pessoas"
      ],
      "metadata": {
        "id": "Enez4SWXdAdW",
        "colab": {
          "base_uri": "https://localhost:8080/",
          "height": 146
        },
        "outputId": "322cadad-220c-45d6-f46f-9f662bff3835"
      },
      "execution_count": 7,
      "outputs": [
        {
          "output_type": "error",
          "ename": "ZeroDivisionError",
          "evalue": "float division by zero",
          "traceback": [
            "\u001b[0;31m---------------------------------------------------------------------------\u001b[0m",
            "\u001b[0;31mZeroDivisionError\u001b[0m                         Traceback (most recent call last)",
            "\u001b[0;32m/tmp/ipython-input-1587840832.py\u001b[0m in \u001b[0;36m<cell line: 0>\u001b[0;34m()\u001b[0m\n\u001b[0;32m----> 1\u001b[0;31m \u001b[0mvalor_por_pessoa\u001b[0m \u001b[0;34m=\u001b[0m \u001b[0mpreco\u001b[0m \u001b[0;34m/\u001b[0m \u001b[0mpessoas\u001b[0m\u001b[0;34m\u001b[0m\u001b[0;34m\u001b[0m\u001b[0m\n\u001b[0m",
            "\u001b[0;31mZeroDivisionError\u001b[0m: float division by zero"
          ]
        }
      ]
    },
    {
      "cell_type": "markdown",
      "source": [
        " - **Exemplo**: Erro por combinações de tipos diferentes"
      ],
      "metadata": {
        "id": "P0ZxZaFZdIrv"
      }
    },
    {
      "cell_type": "code",
      "source": [
        "nome = 'Andre Perez'\n",
        "idade = True"
      ],
      "metadata": {
        "id": "K_1YXFoxdNDf"
      },
      "execution_count": 8,
      "outputs": []
    },
    {
      "cell_type": "code",
      "source": [
        "apresentacao = 'Fala pessoal, meu nome é ' + nome + ' e eu tenho ' + idade + ' anos'"
      ],
      "metadata": {
        "id": "Y88n8QDIdSbH",
        "colab": {
          "base_uri": "https://localhost:8080/",
          "height": 146
        },
        "outputId": "49b19f9a-4ce6-4c8a-d05e-15878f5bd073"
      },
      "execution_count": 9,
      "outputs": [
        {
          "output_type": "error",
          "ename": "TypeError",
          "evalue": "can only concatenate str (not \"bool\") to str",
          "traceback": [
            "\u001b[0;31m---------------------------------------------------------------------------\u001b[0m",
            "\u001b[0;31mTypeError\u001b[0m                                 Traceback (most recent call last)",
            "\u001b[0;32m/tmp/ipython-input-986318647.py\u001b[0m in \u001b[0;36m<cell line: 0>\u001b[0;34m()\u001b[0m\n\u001b[0;32m----> 1\u001b[0;31m \u001b[0mapresentacao\u001b[0m \u001b[0;34m=\u001b[0m \u001b[0;34m'Fala pessoal, meu nome é '\u001b[0m \u001b[0;34m+\u001b[0m \u001b[0mnome\u001b[0m \u001b[0;34m+\u001b[0m \u001b[0;34m' e eu tenho '\u001b[0m \u001b[0;34m+\u001b[0m \u001b[0midade\u001b[0m \u001b[0;34m+\u001b[0m \u001b[0;34m' anos'\u001b[0m\u001b[0;34m\u001b[0m\u001b[0;34m\u001b[0m\u001b[0m\n\u001b[0m",
            "\u001b[0;31mTypeError\u001b[0m: can only concatenate str (not \"bool\") to str"
          ]
        }
      ]
    },
    {
      "cell_type": "markdown",
      "source": [
        " - **Exemplo**: Erro de indexação de estrutura de dados"
      ],
      "metadata": {
        "id": "Nbz8anMQdX6w"
      }
    },
    {
      "cell_type": "code",
      "source": [
        "anos = [2019, 2020, 2021]"
      ],
      "metadata": {
        "id": "QxFeT8VMdi0B"
      },
      "execution_count": 10,
      "outputs": []
    },
    {
      "cell_type": "code",
      "source": [
        "ano_atual = anos[3]\n",
        "print(ano_atual)"
      ],
      "metadata": {
        "id": "_wBFqjlmdmzp",
        "colab": {
          "base_uri": "https://localhost:8080/",
          "height": 165
        },
        "outputId": "da5d9fd9-6294-4c2c-e7b6-720e4dc6231a"
      },
      "execution_count": 15,
      "outputs": [
        {
          "output_type": "error",
          "ename": "IndexError",
          "evalue": "list index out of range",
          "traceback": [
            "\u001b[0;31m---------------------------------------------------------------------------\u001b[0m",
            "\u001b[0;31mIndexError\u001b[0m                                Traceback (most recent call last)",
            "\u001b[0;32m/tmp/ipython-input-3403560824.py\u001b[0m in \u001b[0;36m<cell line: 0>\u001b[0;34m()\u001b[0m\n\u001b[0;32m----> 1\u001b[0;31m \u001b[0mano_atual\u001b[0m \u001b[0;34m=\u001b[0m \u001b[0manos\u001b[0m\u001b[0;34m[\u001b[0m\u001b[0;36m3\u001b[0m\u001b[0;34m]\u001b[0m\u001b[0;34m\u001b[0m\u001b[0;34m\u001b[0m\u001b[0m\n\u001b[0m\u001b[1;32m      2\u001b[0m \u001b[0mprint\u001b[0m\u001b[0;34m(\u001b[0m\u001b[0mano_atual\u001b[0m\u001b[0;34m)\u001b[0m\u001b[0;34m\u001b[0m\u001b[0;34m\u001b[0m\u001b[0m\n",
            "\u001b[0;31mIndexError\u001b[0m: list index out of range"
          ]
        }
      ]
    },
    {
      "cell_type": "code",
      "source": [
        "cursos = {\n",
        "    'python': {\n",
        "        'nome': 'Python para Análise de Dados', 'duracao': 2.5\n",
        "    },\n",
        "    'sql': {\n",
        "        'nome': 'SQL para Análise de Dados', 'duracao': 2\n",
        "    }\n",
        "}"
      ],
      "metadata": {
        "id": "uEbMFn19dsUa"
      },
      "execution_count": 16,
      "outputs": []
    },
    {
      "cell_type": "code",
      "source": [
        "curso_atual = cursos['python']\n",
        "print(curso_atual)"
      ],
      "metadata": {
        "id": "DxFDmUcidxWa",
        "colab": {
          "base_uri": "https://localhost:8080/"
        },
        "outputId": "eb8a59e9-178c-412b-dcae-3639f1bce2db"
      },
      "execution_count": 17,
      "outputs": [
        {
          "output_type": "stream",
          "name": "stdout",
          "text": [
            "{'nome': 'Python para Análise de Dados', 'duracao': 2.5}\n"
          ]
        }
      ]
    },
    {
      "cell_type": "code",
      "source": [
        "curso_atual = cursos['sql']\n",
        "print(curso_atual)"
      ],
      "metadata": {
        "id": "voO615iUd1pr",
        "colab": {
          "base_uri": "https://localhost:8080/"
        },
        "outputId": "1453aa37-74b5-4917-bde3-6fd8b3642ce7"
      },
      "execution_count": 18,
      "outputs": [
        {
          "output_type": "stream",
          "name": "stdout",
          "text": [
            "{'nome': 'SQL para Análise de Dados', 'duracao': 2}\n"
          ]
        }
      ]
    },
    {
      "cell_type": "code",
      "source": [
        "curso_atual = cursos['analista']\n",
        "print(curso_atual)"
      ],
      "metadata": {
        "id": "sI0gyDV-d6Nj",
        "colab": {
          "base_uri": "https://localhost:8080/",
          "height": 165
        },
        "outputId": "4fd65194-eb41-4c92-bb2e-28ecce2567bf"
      },
      "execution_count": 19,
      "outputs": [
        {
          "output_type": "error",
          "ename": "KeyError",
          "evalue": "'analista'",
          "traceback": [
            "\u001b[0;31m---------------------------------------------------------------------------\u001b[0m",
            "\u001b[0;31mKeyError\u001b[0m                                  Traceback (most recent call last)",
            "\u001b[0;32m/tmp/ipython-input-3661591352.py\u001b[0m in \u001b[0;36m<cell line: 0>\u001b[0;34m()\u001b[0m\n\u001b[0;32m----> 1\u001b[0;31m \u001b[0mcurso_atual\u001b[0m \u001b[0;34m=\u001b[0m \u001b[0mcursos\u001b[0m\u001b[0;34m[\u001b[0m\u001b[0;34m'analista'\u001b[0m\u001b[0;34m]\u001b[0m\u001b[0;34m\u001b[0m\u001b[0;34m\u001b[0m\u001b[0m\n\u001b[0m\u001b[1;32m      2\u001b[0m \u001b[0mprint\u001b[0m\u001b[0;34m(\u001b[0m\u001b[0mcurso_atual\u001b[0m\u001b[0;34m)\u001b[0m\u001b[0;34m\u001b[0m\u001b[0;34m\u001b[0m\u001b[0m\n",
            "\u001b[0;31mKeyError\u001b[0m: 'analista'"
          ]
        }
      ]
    },
    {
      "cell_type": "markdown",
      "source": [
        "**Erros de lógica**. Não 'estoura' exceção. A melhor forma de analise é usar a função `print` para verificar resultados intermediários."
      ],
      "metadata": {
        "id": "pJbkUe_qd_dV"
      }
    },
    {
      "cell_type": "markdown",
      "source": [
        "   * **Exemplo**: Loops infinitos.\n"
      ],
      "metadata": {
        "id": "d30sda6DeCdc"
      }
    },
    {
      "cell_type": "code",
      "source": [
        "controle = 0\n",
        "while True:\n",
        "  ...\n",
        "  controle += 1\n",
        "  if controle > 10:\n",
        "    break"
      ],
      "metadata": {
        "id": "J__3l4jieGC0"
      },
      "execution_count": 20,
      "outputs": []
    },
    {
      "cell_type": "code",
      "source": [
        "s = []\n",
        "while True:\n",
        "  s = s + (['CURSO DE PYTHON PARA ANALISE DE DADOS DA EBAC'] * (1000 * 1000 * 1000))"
      ],
      "metadata": {
        "id": "5R8d0a1eeLm9"
      },
      "execution_count": null,
      "outputs": []
    },
    {
      "cell_type": "markdown",
      "source": [
        " - **Exemplo**: Limites de coleções."
      ],
      "metadata": {
        "id": "IsAVZ0oAeQjV"
      }
    },
    {
      "cell_type": "code",
      "source": [
        "carrinho_compras = [{'id': 3184, 'preco': 37.65, 'qtd': 10}, {'id': 1203, 'preco': 81.20, 'qtd': 2}, {'id': 8921, 'preco': 15.90, 'qtd': 2}]"
      ],
      "metadata": {
        "id": "78N891jIeUBm"
      },
      "execution_count": 1,
      "outputs": []
    },
    {
      "cell_type": "code",
      "source": [
        "valor_total = 0\n",
        "for indice in range(1, len(carrinho_compras)):\n",
        "  valor_total += carrinho_compras[indice]['preco'] * carrinho_compras[indice]['qtd']\n",
        "\n",
        "valor_total = round(valor_total, 2)\n",
        "print(valor_total)"
      ],
      "metadata": {
        "id": "Dh7tg_ovfl_N",
        "colab": {
          "base_uri": "https://localhost:8080/"
        },
        "outputId": "fd05aa58-2ea0-4851-84ee-d4b02ee8383d"
      },
      "execution_count": 7,
      "outputs": [
        {
          "output_type": "stream",
          "name": "stdout",
          "text": [
            "194.2\n"
          ]
        }
      ]
    },
    {
      "cell_type": "code",
      "source": [
        "valor_total = 0\n",
        "for produto in carrinho_compras:\n",
        "  valor_total += produto['preco'] * produto['qtd']\n",
        "\n",
        "valor_total = round(valor_total, 2)\n",
        "print(valor_total)"
      ],
      "metadata": {
        "id": "w2unkQdvfqpe",
        "colab": {
          "base_uri": "https://localhost:8080/"
        },
        "outputId": "7967f811-34bc-4d91-c386-d8a4ca3778be"
      },
      "execution_count": 3,
      "outputs": [
        {
          "output_type": "stream",
          "name": "stdout",
          "text": [
            "570.7\n"
          ]
        }
      ]
    },
    {
      "cell_type": "code",
      "source": [
        "valor_total = 0\n",
        "for indice in range(0, len(carrinho_compras)):\n",
        "  print(carrinho_compras[indice])\n",
        "  valor_total += carrinho_compras[indice]['preco'] * carrinho_compras[indice]['qtd']\n",
        "\n",
        "valor_total = round(valor_total, 2)\n",
        "print(valor_total)"
      ],
      "metadata": {
        "id": "OGayTiE6fub2",
        "colab": {
          "base_uri": "https://localhost:8080/"
        },
        "outputId": "49de88a6-48dc-4a56-acfd-005004c971f1"
      },
      "execution_count": 5,
      "outputs": [
        {
          "output_type": "stream",
          "name": "stdout",
          "text": [
            "{'id': 3184, 'preco': 37.65, 'qtd': 10}\n",
            "{'id': 1203, 'preco': 81.2, 'qtd': 2}\n",
            "{'id': 8921, 'preco': 15.9, 'qtd': 2}\n",
            "570.7\n"
          ]
        }
      ]
    },
    {
      "cell_type": "markdown",
      "source": [
        "### **3.3. Manipulação**"
      ],
      "metadata": {
        "id": "qkcbcXXpf5Uv"
      }
    },
    {
      "cell_type": "markdown",
      "source": [
        " - Manipular o erro com a estrutura `try-catch-finally-else`."
      ],
      "metadata": {
        "id": "9Cw4oJWIf-Sw"
      }
    },
    {
      "cell_type": "code",
      "source": [
        "# anos = [2019, 2020, 2021]\n",
        "anos = {2019, 2020, 2021}\n",
        "\n",
        "try:\n",
        "  ano_atual = anos[3]\n",
        "  print(ano_atual)\n",
        "except IndexError:\n",
        "  print('Lista de anos é menor que o valor escolhido. Espera-se um valor entre 0 e ' + str(len(anos) - 1))\n",
        "except Exception as exc:\n",
        "  print(exc)"
      ],
      "metadata": {
        "id": "XvgF3bovgFgh",
        "colab": {
          "base_uri": "https://localhost:8080/"
        },
        "outputId": "efff35ac-0450-462f-acf2-442c8f4a4beb"
      },
      "execution_count": 9,
      "outputs": [
        {
          "output_type": "stream",
          "name": "stdout",
          "text": [
            "'set' object is not subscriptable\n"
          ]
        }
      ]
    },
    {
      "cell_type": "markdown",
      "source": [
        " - Passar o erro para frente com a estrutura `raise`."
      ],
      "metadata": {
        "id": "yvJG8nEOgMDB"
      }
    },
    {
      "cell_type": "code",
      "source": [
        "anos = [2019, 2020, 2021]\n",
        "# anos = {2019, 2020, 2021}\n",
        "\n",
        "try:\n",
        "  ano_atual = anos[3]\n",
        "  print(ano_atual)\n",
        "except IndexError as exc:\n",
        "  raise Exception('Lista de anos é menor que o valor escolhido. Espera-se um valor entre 0 e ' + str(len(anos) - 1))\n",
        "except Exception as exc:\n",
        "  raise exc"
      ],
      "metadata": {
        "id": "6VOn3ogAgRBS",
        "colab": {
          "base_uri": "https://localhost:8080/"
        },
        "outputId": "56fd20c5-62a3-4ae6-a24b-5eadde8f44ae"
      },
      "execution_count": 11,
      "outputs": [
        {
          "output_type": "stream",
          "name": "stdout",
          "text": [
            "2021\n"
          ]
        }
      ]
    },
    {
      "cell_type": "markdown",
      "source": [
        "### **3.4. Revisitando a motivação**"
      ],
      "metadata": {
        "id": "-6qYW5KygXor"
      }
    },
    {
      "cell_type": "code",
      "source": [
        "faturas = []\n",
        "\n",
        "with open(file='./telecom.csv', mode='r', encoding='utf8') as arquivo:\n",
        "  linha = arquivo.readline()\n",
        "  linha = arquivo.readline()\n",
        "  while linha:\n",
        "    try:\n",
        "      fatura = float(linha.strip().split(sep=',')[-3])\n",
        "    except ValueError:\n",
        "      print('Falha ao processar as faturas! Abortando o processamento.')\n",
        "      break\n",
        "    else:\n",
        "      faturas.append(fatura)\n",
        "    linha = arquivo.readline()\n",
        "\n",
        "print(faturas)"
      ],
      "metadata": {
        "id": "zpuW93Begc6s",
        "colab": {
          "base_uri": "https://localhost:8080/"
        },
        "outputId": "d05d5f6c-44a4-4a7b-fc9a-c79ad1606537"
      },
      "execution_count": 12,
      "outputs": [
        {
          "output_type": "stream",
          "name": "stdout",
          "text": [
            "Falha ao processar as faturas! Abortando o processamento.\n",
            "[]\n"
          ]
        }
      ]
    },
    {
      "cell_type": "code",
      "source": [
        "from functools import reduce\n",
        "\n",
        "def processar_faturas(nome_arquivo: str):\n",
        "\n",
        "  faturas = []\n",
        "\n",
        "  with open(file=nome_arquivo, mode='r', encoding='utf8') as arquivo:\n",
        "    linha = arquivo.readline()\n",
        "    linha = arquivo.readline()\n",
        "    while linha:\n",
        "      try:\n",
        "        fatura = float(linha.strip().split(sep=',')[-3])\n",
        "      except ValueError as exc:\n",
        "        raise ValueError(f'Falha ao processar as faturas devido ao seguinte erro: \"{exc}\"')\n",
        "      else:\n",
        "        faturas.append(fatura)\n",
        "      linha = arquivo.readline()\n",
        "\n",
        "  total_a_pagar = reduce(lambda x, y: x + y, faturas)\n",
        "  total_a_pagar = round(total_a_pagar, 2)\n",
        "\n",
        "  return total_a_pagar"
      ],
      "metadata": {
        "id": "c1-E9YQlgjS7"
      },
      "execution_count": 13,
      "outputs": []
    },
    {
      "cell_type": "code",
      "source": [
        "try:\n",
        "  total_a_pagar = processar_faturas(nome_arquivo='./telecom.csv')\n",
        "except Exception as exc:\n",
        "  print(exc)\n",
        "else:\n",
        "  print(total_a_pagar)"
      ],
      "metadata": {
        "id": "a-kFksHBgv58",
        "colab": {
          "base_uri": "https://localhost:8080/"
        },
        "outputId": "bf0816d9-e292-485d-c08a-612029984803"
      },
      "execution_count": 14,
      "outputs": [
        {
          "output_type": "stream",
          "name": "stdout",
          "text": [
            "Falha ao processar as faturas devido ao seguinte erro: \"could not convert string to float: 'Credit card (automatic)'\"\n"
          ]
        }
      ]
    }
  ]
}